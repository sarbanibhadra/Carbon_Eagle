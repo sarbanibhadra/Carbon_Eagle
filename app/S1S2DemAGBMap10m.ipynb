{
 "cells": [
  {
   "cell_type": "code",
   "execution_count": 1,
   "metadata": {},
   "outputs": [
    {
     "name": "stdout",
     "output_type": "stream",
     "text": [
      "Intel MKL WARNING: Support of Intel(R) Streaming SIMD Extensions 4.2 (Intel(R) SSE4.2) enabled only processors has been deprecated. Intel oneAPI Math Kernel Library 2025.0 will require Intel(R) Advanced Vector Extensions (Intel(R) AVX) instructions.\n",
      "Intel MKL WARNING: Support of Intel(R) Streaming SIMD Extensions 4.2 (Intel(R) SSE4.2) enabled only processors has been deprecated. Intel oneAPI Math Kernel Library 2025.0 will require Intel(R) Advanced Vector Extensions (Intel(R) AVX) instructions.\n"
     ]
    }
   ],
   "source": [
    "import geemap\n",
    "import folium\n",
    "import ee\n",
    "\n",
    "# Initialize Earth Engine\n",
    "ee.Initialize(project='agb-sarbanibhadra')\n",
    "\n",
    "# Define the Area of Interest (AOI)\n",
    "aoi = ee.Geometry.Polygon([\n",
    "    [\n",
    "        [-73.0, -15.0],\n",
    "        [-53.0, -15.0],\n",
    "        [-53.0, 5.0],\n",
    "        [-73.0, 5.0]\n",
    "    ]\n",
    "])\n",
    "\n",
    "# Load Sentinel-1 data\n",
    "s1 = ee.ImageCollection('COPERNICUS/S1_GRD') \\\n",
    "    .filterBounds(aoi) \\\n",
    "    .filterDate('2023-01-01', '2023-01-31') \\\n",
    "    .filter(ee.Filter.listContains('transmitterReceiverPolarisation', 'VV')) \\\n",
    "    .select('VV') \\\n",
    "    .mean()\n",
    "\n",
    "# Load Sentinel-2 data\n",
    "s2 = ee.ImageCollection('COPERNICUS/S2_HARMONIZED') \\\n",
    "    .filterBounds(aoi) \\\n",
    "    .filterDate('2023-01-01', '2023-01-31') \\\n",
    "    .filter(ee.Filter.lt('CLOUDY_PIXEL_PERCENTAGE', 20)) \\\n",
    "    .median()\n",
    "\n",
    "# Compute NDVI from Sentinel-2\n",
    "ndvi = s2.normalizedDifference(['B8', 'B4']).rename('NDVI')\n",
    "\n",
    "# Load DEM data\n",
    "dem = ee.Image('USGS/SRTMGL1_003').clip(aoi)\n",
    "\n",
    "# Compute slope from DEM\n",
    "slope = ee.Terrain.slope(dem).rename('Slope')\n",
    "\n",
    "# Combine features into a single image\n",
    "combined = s1.addBands(ndvi).addBands(slope)\n",
    "\n",
    "# Dummy AGB model function (Replace with your model)\n",
    "def predict_agb(image):\n",
    "    return image.select('NDVI').multiply(100).rename('AGB')\n",
    "\n",
    "# Apply the AGB model\n",
    "agb = predict_agb(combined)\n",
    "\n",
    "# Load REDD+ projects data from Earth Engine assets\n",
    "# redd_projects = ee.FeatureCollection('users/yourusername/yourassetname')\n",
    "\n",
    "# Create a Map object\n",
    "map = geemap.Map(center=[-5.0, -63.0], zoom=5)\n",
    "\n",
    "# Add the AGB layer to the map\n",
    "map.addLayer(agb, {\n",
    "    'min': 0,\n",
    "    'max': 200,\n",
    "    'palette': ['blue', 'green', 'yellow', 'red']\n",
    "}, 'AGB')\n",
    "\n",
    "# Add the AOI boundary\n",
    "map.addLayer(aoi, {}, 'AOI Boundary')\n",
    "\n",
    "# Add REDD+ projects layer to the map\n",
    "# map.addLayer(redd_projects, {\n",
    "#     'color': 'red',\n",
    "#     'opacity': 0.5\n",
    "# }, 'REDD+ Projects')\n",
    "\n",
    "# Add layer controls\n",
    "map.addLayerControl()\n",
    "\n",
    "# Display the map\n",
    "map\n",
    "\n",
    "# Save the map as an HTML file\n",
    "map.save('agb_map_with_redd_projects.html')\n",
    "\n"
   ]
  },
  {
   "cell_type": "code",
   "execution_count": 2,
   "metadata": {},
   "outputs": [
    {
     "data": {
      "text/html": [
       "\n",
       "            <style>\n",
       "                .geemap-dark {\n",
       "                    --jp-widgets-color: white;\n",
       "                    --jp-widgets-label-color: white;\n",
       "                    --jp-ui-font-color1: white;\n",
       "                    --jp-layout-color2: #454545;\n",
       "                    background-color: #383838;\n",
       "                }\n",
       "\n",
       "                .geemap-dark .jupyter-button {\n",
       "                    --jp-layout-color3: #383838;\n",
       "                }\n",
       "\n",
       "                .geemap-colab {\n",
       "                    background-color: var(--colab-primary-surface-color, white);\n",
       "                }\n",
       "\n",
       "                .geemap-colab .jupyter-button {\n",
       "                    --jp-layout-color3: var(--colab-primary-surface-color, white);\n",
       "                }\n",
       "            </style>\n",
       "            "
      ],
      "text/plain": [
       "<IPython.core.display.HTML object>"
      ]
     },
     "metadata": {},
     "output_type": "display_data"
    },
    {
     "data": {
      "application/vnd.jupyter.widget-view+json": {
       "model_id": "16c3862434a142be8bb2d937959adba4",
       "version_major": 2,
       "version_minor": 0
      },
      "text/plain": [
       "Map(center=[-5.0, -63.0], controls=(WidgetControl(options=['position', 'transparent_bg'], widget=SearchDataGUI…"
      ]
     },
     "execution_count": 2,
     "metadata": {},
     "output_type": "execute_result"
    }
   ],
   "source": [
    "map"
   ]
  }
 ],
 "metadata": {
  "kernelspec": {
   "display_name": "conda-agb",
   "language": "python",
   "name": "python3"
  },
  "language_info": {
   "codemirror_mode": {
    "name": "ipython",
    "version": 3
   },
   "file_extension": ".py",
   "mimetype": "text/x-python",
   "name": "python",
   "nbconvert_exporter": "python",
   "pygments_lexer": "ipython3",
   "version": "3.12.2"
  }
 },
 "nbformat": 4,
 "nbformat_minor": 2
}
